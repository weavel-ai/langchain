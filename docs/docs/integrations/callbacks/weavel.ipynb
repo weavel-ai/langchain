{
 "cells": [
  {
   "cell_type": "markdown",
   "id": "40dab0fa-e56c-4958-959e-bd6d6f829724",
   "metadata": {
    "tags": []
   },
   "source": [
    "# Weavel\n",
    "\n",
    ">[Weavel](https://weavel.ai) is product analytics for conversational AI.  \n",
    ">Once integrated into your product, reports will be automatically generated and updated regularly based on conversation traces.   \n",
    ">\n",
    ">Check out [Weavel docs](https://weavel.ai/docs) for more information on **Weavel**.  \n",
    "\n",
    "In this guide, we will go over how to set up the `WeavelCallbackHandler`. \n"
   ]
  },
  {
   "cell_type": "markdown",
   "id": "c0d060d5-133b-496e-b76e-43284d5545b8",
   "metadata": {
    "tags": []
   },
   "source": [
    "## Installation and Setup"
   ]
  },
  {
   "cell_type": "code",
   "execution_count": null,
   "id": "ce799e10-5433-4b29-8fa1-c1352f761918",
   "metadata": {},
   "outputs": [],
   "source": [
    "%pip install --upgrade --quiet langchain langchain-community"
   ]
  },
  {
   "cell_type": "markdown",
   "id": "44666917-85f2-4695-897d-54504e343604",
   "metadata": {},
   "source": [
    "### Getting Weavel Credentials\n",
    "\n",
    "If you do not have a Weavel account, create one on [here](https://analytics.weavel.ai/) and get your API key from the **Settings > Developers** section.\n",
    "\n",
    "Check out our [Integration Guide](https://weavel.ai/docs/sdks/python) for more information.\n",
    "\n",
    "Now set your API key as an environment variable:"
   ]
  },
  {
   "cell_type": "code",
   "execution_count": null,
   "id": "cd696d03-bea8-42bd-914b-2290fcafb5c9",
   "metadata": {
    "tags": []
   },
   "outputs": [],
   "source": [
    "import os\n",
    "\n",
    "os.environ[\"WEAVEL_API_KEY\"] = \"YoUr_ApI_KeY\"  # replace with your API key"
   ]
  },
  {
   "cell_type": "code",
   "execution_count": null,
   "id": "36fa67da-8a05-4d54-b0a3-dc173f3107a0",
   "metadata": {},
   "outputs": [],
   "source": [
    "from langchain_community.callbacks.weavel_callback import WeavelCallbackHandler"
   ]
  },
  {
   "cell_type": "markdown",
   "id": "cd7177b0-a9e8-45ae-adb0-ea779376511b",
   "metadata": {
    "tags": []
   },
   "source": [
    "### Usage"
   ]
  },
  {
   "cell_type": "markdown",
   "id": "6ec1bcd4-3824-43de-84a4-3102a2f6d26d",
   "metadata": {},
   "source": [
    "`WeavelCallbackHandler` receives 2 required arguments (`user_id`, `trace_id`) and 4 optional arguments.  \n",
    "\n",
    "Make sure to keep track of user and trace IDs in your system to keep the conversation trace consistent. \n",
    "\n",
    "\n",
    "```python\n",
    "class WeavelCallbackHandler(BaseCallbackHandler):\n",
    "    \"\"\"\n",
    "    Callback handler for Weavel.\n",
    "\n",
    "    Args:\n",
    "        user_id (str): User ID (Unique identifier for the user.)\n",
    "        trace_id (str): Trace(Conversation) ID. (Unique identifier for the conversation.)\n",
    "        user_message_id (str, Optional): Unique identifier for the user message, used to attach metadata to the user message.\n",
    "        user_message_metadata (Dict[str, Any], Optional): Metadata to attach to the user message.\n",
    "        assistant_message_id (str, Optional): Unique identifier for the assistant message, used to attach metadata to the assistant message.\n",
    "        assistant_message_metadata (Dict[str, Any], Optional): Metadata to attach to the assistant message.\n",
    "    \"\"\"\n",
    "```"
   ]
  },
  {
   "cell_type": "markdown",
   "id": "44d60d9f-b2bd-4ed4-b624-54cce8313815",
   "metadata": {
    "tags": []
   },
   "source": [
    "## Usage"
   ]
  },
  {
   "cell_type": "markdown",
   "id": "792c9143",
   "metadata": {},
   "source": [
    "### Weavel callback within a chat model\n",
    "\n",
    "Use `WeavelCallbackHandler` to log user and assistant messages automatically."
   ]
  },
  {
   "cell_type": "code",
   "execution_count": null,
   "id": "9d394b7f-45eb-44ec-b721-17d2402de805",
   "metadata": {
    "tags": []
   },
   "outputs": [],
   "source": [
    "os.environ[\"OPENAI_API_KEY\"] = \"sk-***\""
   ]
  },
  {
   "cell_type": "code",
   "execution_count": null,
   "id": "8a61cb5e-bed9-4618-b547-fc21b6e319c4",
   "metadata": {
    "tags": []
   },
   "outputs": [],
   "source": [
    "from uuid import uuid4\n",
    "\n",
    "from langchain_core.messages import HumanMessage, SystemMessage\n",
    "from langchain_openai import ChatOpenAI"
   ]
  },
  {
   "cell_type": "code",
   "execution_count": null,
   "id": "a1ff1efb-305b-4e82-aea2-264b78350f14",
   "metadata": {},
   "outputs": [],
   "source": [
    "chat_llm = ChatOpenAI()\n",
    "\n",
    "user_id = str(uuid4())\n",
    "trace_id = str(uuid4())\n",
    "\n",
    "callbacks = [\n",
    "    WeavelCallbackHandler(\n",
    "        user_id=user_id,\n",
    "        trace_id=trace_id,\n",
    "    )\n",
    "]\n",
    "\n",
    "config = {\n",
    "    \"callbacks\": callbacks,\n",
    "}"
   ]
  },
  {
   "cell_type": "code",
   "execution_count": null,
   "id": "c83d3956-99ab-4b6f-8515-0def83a1698c",
   "metadata": {
    "tags": []
   },
   "outputs": [],
   "source": [
    "chat_res = chat_llm.invoke(\n",
    "    [\n",
    "        SystemMessage(content=\"You are a helpful assistant\"),\n",
    "        HumanMessage(content=\"I love you!\"),\n",
    "    ],\n",
    "    config=config,\n",
    ")"
   ]
  },
  {
   "cell_type": "markdown",
   "id": "763292b3",
   "metadata": {},
   "source": [
    "### Weavel callback within Chains \n",
    "\n",
    "`WeavelCallbackHandler` can be used with the Langchain `Chain` object."
   ]
  },
  {
   "cell_type": "code",
   "execution_count": null,
   "id": "e2e3b9a6",
   "metadata": {},
   "outputs": [],
   "source": [
    "from langchain_core.prompts import ChatPromptTemplate\n",
    "\n",
    "prompt = ChatPromptTemplate.from_messages(\n",
    "    [(\"system\", \"You are a helpful assistant.\"), (\"user\", \"{input}\")]\n",
    ")\n",
    "\n",
    "chat_llm = ChatOpenAI()\n",
    "\n",
    "chain = prompt | chat_llm\n",
    "\n",
    "callbacks = [\n",
    "    WeavelCallbackHandler(\n",
    "        user_id=user_id,\n",
    "        trace_id=trace_id,\n",
    "    )\n",
    "]\n",
    "\n",
    "config = {\n",
    "    \"callbacks\": callbacks,\n",
    "}\n",
    "\n",
    "chat_res = chain.invoke(\n",
    "    [\n",
    "        \"I love you!\",\n",
    "    ],\n",
    "    config=config,\n",
    ")"
   ]
  },
  {
   "cell_type": "markdown",
   "id": "95572d5e",
   "metadata": {},
   "source": [
    "### Weavel callback within Agents\n",
    "\n",
    "`WeavelCallbackHandler` can also be used with the Langchain `AgentExecutor` object.\n",
    "When used within AgentExecutor, tool usage of the agent will be logged to Weavel as well."
   ]
  },
  {
   "cell_type": "code",
   "execution_count": null,
   "id": "4ec6eba9",
   "metadata": {},
   "outputs": [],
   "source": [
    "from langchain.agents import AgentExecutor, create_tool_calling_agent\n",
    "from langchain_core.tools import tool\n",
    "\n",
    "\n",
    "@tool\n",
    "def multiply(x: float, y: float) -> float:\n",
    "    \"\"\"Multiply 'x' times 'y'.\"\"\"\n",
    "    print(f\"Multiplying {x} by {y}\")\n",
    "    return x * y\n",
    "\n",
    "\n",
    "@tool\n",
    "def exponentiate(x: float, y: float) -> float:\n",
    "    \"\"\"Raise 'x' to the 'y'.\"\"\"\n",
    "    print(f\"Raising {x} to the power of {y}\")\n",
    "    return x**y\n",
    "\n",
    "\n",
    "@tool\n",
    "def add(x: float, y: float) -> float:\n",
    "    \"\"\"Add 'x' and 'y'.\"\"\"\n",
    "    print(f\"Adding {x} and {y}\")\n",
    "    return x + y\n",
    "\n",
    "\n",
    "tools = [multiply, exponentiate, add]\n",
    "\n",
    "agent_prompt = ChatPromptTemplate.from_messages(\n",
    "    [\n",
    "        (\"system\", \"you're a helpful assistant\"),\n",
    "        (\"human\", \"{input}\"),\n",
    "        (\"placeholder\", \"{agent_scratchpad}\"),\n",
    "    ]\n",
    ")\n",
    "\n",
    "callbacks = [\n",
    "    WeavelCallbackHandler(\n",
    "        user_id=user_id,\n",
    "        trace_id=trace_id,\n",
    "    )\n",
    "]\n",
    "\n",
    "config = {\n",
    "    \"callbacks\": callbacks,\n",
    "}\n",
    "\n",
    "chat_llm = ChatOpenAI()\n",
    "\n",
    "agent = create_tool_calling_agent(chat_llm, tools, agent_prompt)\n",
    "agent_executor = AgentExecutor(agent=agent, tools=tools, verbose=True)\n",
    "\n",
    "\n",
    "agent_executor.invoke(\n",
    "    {\n",
    "        \"input\": \"what's 3 plus 5 raised to the 2.743. also what's 17.24 - 918.1241\",\n",
    "    },\n",
    "    config=config,\n",
    ")"
   ]
  },
  {
   "cell_type": "markdown",
   "id": "1153cd66",
   "metadata": {},
   "source": [
    "## More logging\n",
    "\n",
    "You can record any user events such as button clicks or page views to Weavel through our [python SDK](https://weavel.ai/docs/sdks/python) or by sending a HTTP POST request to `https://api.weavel.ai/capture/track_event` ([REST API docs](https://api.weavel.ai/docs))"
   ]
  },
  {
   "cell_type": "markdown",
   "id": "4147c3ae",
   "metadata": {},
   "source": [
    "### Installing Weavel python SDK"
   ]
  },
  {
   "cell_type": "code",
   "execution_count": null,
   "id": "2d7a7405",
   "metadata": {},
   "outputs": [],
   "source": [
    "%pip install weavel"
   ]
  },
  {
   "cell_type": "code",
   "execution_count": null,
   "id": "c70263df",
   "metadata": {},
   "outputs": [],
   "source": [
    "import os\n",
    "\n",
    "import requests\n",
    "from weavel import create_client\n",
    "\n",
    "WEAVEL_API_KEY = os.environ[\"WEAVEL_API_KEY\"]\n",
    "\n",
    "client = create_client()\n",
    "\n",
    "client.track(\n",
    "    user_id=user_id,\n",
    "    trace_id=trace_id,  # trace_id is optional\n",
    "    event_name=\"paid\",\n",
    "    properties={\"amount\": \"100\"},\n",
    ")\n",
    "\n",
    "client.close()\n",
    "res = requests.post(\n",
    "    \"https://api.weavel.ai/capture/track_event\",\n",
    "    headers={\"Authorization\": f\"Bearer {WEAVEL_API_KEY}\"},\n",
    "    json={\n",
    "        \"user_id\": user_id,\n",
    "        \"trace_id\": trace_id,  # trace_id is optional\n",
    "        \"name\": \"subscription\",\n",
    "        \"properties\": {\"plan\": \"pro\"},\n",
    "    },\n",
    ")"
   ]
  }
 ],
 "metadata": {
  "kernelspec": {
   "display_name": "Python 3 (ipykernel)",
   "language": "python",
   "name": "python3"
  },
  "language_info": {
   "codemirror_mode": {
    "name": "ipython",
    "version": 3
   },
   "file_extension": ".py",
   "mimetype": "text/x-python",
   "name": "python",
   "nbconvert_exporter": "python",
   "pygments_lexer": "ipython3",
   "version": "3.11.4"
  }
 },
 "nbformat": 4,
 "nbformat_minor": 5
}
